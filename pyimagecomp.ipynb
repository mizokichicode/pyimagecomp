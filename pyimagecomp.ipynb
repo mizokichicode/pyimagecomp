{
 "cells": [
  {
   "cell_type": "code",
   "execution_count": null,
   "source": [
    "import cv2\n",
    "import numpy as np\n",
    "\n",
    "# 参照画像(img_ref)と比較画像(img_cmp)の読み込み\n",
    "img_ref = cv2.imread('xxxxx.png', cv2.IMREAD_COLOR)\n",
    "img_cmp = cv2.imread('xxxxx.png', cv2.IMREAD_COLOR)\n",
    "img_tmp = img_cmp.copy()\n",
    "\n",
    "# グレースケール変換\n",
    "gray_img_ref = cv2.cvtColor(img_ref, cv2.COLOR_BGR2GRAY)\n",
    "gray_img_cmp = cv2.cvtColor(img_cmp, cv2.COLOR_BGR2GRAY)\n",
    "\n",
    "# 参照画像の平滑化 (変化をつけるために意図的に実行する)\n",
    "gray_img_ref = cv2.blur(gray_img_ref, (3,3))\n",
    "\n",
    "# 単純に画像の引き算\n",
    "img_dif = cv2.absdiff(gray_img_ref, gray_img_cmp)\n",
    "\n",
    "# 差分画像を2値化 (閾値は50)\n",
    "(ret,img_bin) = cv2.threshold(img_dif, 50, 255, 0)\n",
    "\n",
    "# 2値画像に存在する輪郭の座標を取得\n",
    "(contours, hierarchy) = cv2.findContours(img_bin, cv2.RETR_TREE, cv2.CHAIN_APPROX_SIMPLE)\n",
    "\n",
    "# contoursから1個ずつ輪郭を取り出し、輪郭の位置(x,y)とサイズ(cx,cy)を取得\n",
    "# サイズが 5x5 以上の輪郭を枠で囲う\n",
    "for contour in contours:\n",
    "    (x,y,cx,cy) = cv2.boundingRect(contour)\n",
    "    if cx > 5 and cy > 5:\n",
    "        img1 = gray_img_ref[y-2:y+cy+2, x-2:x+cx+2]\n",
    "        img2 = gray_img_cmp[y-2:y+cy+2, x-2:x+cx+2]\n",
    "        (d,etc) = cv2.phaseCorrelate(np.float32(img2),np.float32(img1))\n",
    "        (dx,dy) = d\n",
    "        (dx,dy) = (np.around(np.abs(dx)), np.around(np.abs(dy)))\n",
    "        print('dx=', dx, ' dy=', dy)\n",
    "        if dx > 1 or dy > 1:\n",
    "            cv2.rectangle(img_tmp, (x-2, y-2), (x+cx+2, y+cy+2), (0, 255, 0), 1)\n",
    "\n",
    "# 画像保存\n",
    "# cv2.imwrite('xxxxx-diff.png', img_dif)\n",
    "# cv2.imwrite('xxxxx-bin.png', img_bin)\n",
    "cv2.imwrite('xxxxx-result.png', img_tmp)"
   ],
   "outputs": [],
   "metadata": {}
  }
 ],
 "metadata": {
  "orig_nbformat": 4,
  "language_info": {
   "name": "python",
   "version": "3.9.6"
  },
  "kernelspec": {
   "name": "python3",
   "display_name": "Python 3.9.6 64-bit"
  },
  "interpreter": {
   "hash": "aee8b7b246df8f9039afb4144a1f6fd8d2ca17a180786b69acc140d282b71a49"
  }
 },
 "nbformat": 4,
 "nbformat_minor": 2
}